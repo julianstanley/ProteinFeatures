{
 "cells": [
  {
   "cell_type": "code",
   "execution_count": 6,
   "metadata": {},
   "outputs": [],
   "source": [
    "import pandas as pd\n",
    "from tqdm import tqdm_notebook\n",
    "import csv\n",
    "from itertools import compress\n",
    "import requests\n",
    "from xml.dom import minidom\n",
    "\n",
    "from src.get_pfam_info import get_pfam_info\n",
    "from src.get_uniprot_info import get_uniprot_info\n",
    "from src.utils import filter_on_attribute\n",
    "from src.protein_modeling import *\n",
    "\n",
    "import pickle\n",
    "\n",
    "with open(\"pickle_07232019_pfam_annotation.txt\", \"rb\") as fp:   # Unpickling\n",
    "    pfam_annotation = pickle.load(fp)\n",
    "    \n",
    "with open(\"pickle_07232019_crystal_annotation.txt\", \"rb\") as fp:\n",
    "    crystal_annotation = pickle.load(fp)\n",
    "    \n",
    "with open(\"pickle_07232019_protein_crystal.txt\", \"rb\") as fp:\n",
    "    protein_crystal = pickle.load(fp)\n",
    "    "
   ]
  },
  {
   "cell_type": "code",
   "execution_count": 7,
   "metadata": {},
   "outputs": [
    {
     "name": "stdout",
     "output_type": "stream",
     "text": [
      "{'UniProtKB': 'P16403', 'Accession': 'PF00538', 'Identifier': 'Linker_histone', 'Start': 37, 'Stop': 108, 'Sequence': 'MSETAPAAPAAAPPAEKAPVKKKAAKKAGGTPRKASGPPVSELITKAVAASKERSGVSLAALKKALAAAGYDVEKNNSRIKLGLKSLVSKGTLVQTKGTGASGSFKLNKKAASGEAKPKVKKAGGTKPKKPVGAAKKPKKAAGGATPKKSAKKTPKKAKKPAAATVTKKVAKSPKKAKVAKPKKAAKSAAKAVKPKAAKPKVVKPKKAAPKKK'}\n"
     ]
    }
   ],
   "source": [
    "protein = 'P16403'\n",
    "for pfam in pfam_annotation:\n",
    "    if pfam[\"UniProtKB\"] == protein:\n",
    "        print(pfam)"
   ]
  },
  {
   "cell_type": "code",
   "execution_count": 22,
   "metadata": {},
   "outputs": [
    {
     "data": {
      "text/plain": [
       "[{'UniProtKB': 'P16403',\n",
       "  'Accession': 'PF00538',\n",
       "  'Identifier': 'Linker_histone',\n",
       "  'Start': 37,\n",
       "  'Stop': 108,\n",
       "  'Sequence': 'MSETAPAAPAAAPPAEKAPVKKKAAKKAGGTPRKASGPPVSELITKAVAASKERSGVSLAALKKALAAAGYDVEKNNSRIKLGLKSLVSKGTLVQTKGTGASGSFKLNKKAASGEAKPKVKKAGGTKPKKPVGAAKKPKKAAGGATPKKSAKKTPKKAKKPAAATVTKKVAKSPKKAKVAKPKKAAKSAAKAVKPKAAKPKVVKPKKAAPKKK'}]"
      ]
     },
     "execution_count": 22,
     "metadata": {},
     "output_type": "execute_result"
    }
   ],
   "source": [
    "protein = 'P16403'\n",
    "lookup_uniprot_pfams = list_to_lookup(pfam_annotation, \"UniProtKB\")\n",
    "lookup_uniprot_crystal = list_to_lookup(protein_crystal, \"Protein\")\n",
    "lookup_uniprot_crystals = list_to_lookup(crystal_annotation, \"UniProtKB\")\n",
    "lookup_uniprot_pfams[protein]"
   ]
  },
  {
   "cell_type": "code",
   "execution_count": 9,
   "metadata": {},
   "outputs": [],
   "source": [
    "import csv\n",
    "with open('proteins_07222019.csv', 'r') as f:\n",
    "    reader = csv.reader(f)\n",
    "    proteins = list(reader)[0]"
   ]
  },
  {
   "cell_type": "code",
   "execution_count": 14,
   "metadata": {},
   "outputs": [
    {
     "name": "stdout",
     "output_type": "stream",
     "text": [
      "[{'UniProtKB': 'P16403', 'Accession': 'PF00538', 'Identifier': 'Linker_histone', 'Start': 37, 'Stop': 108, 'Sequence': 'MSETAPAAPAAAPPAEKAPVKKKAAKKAGGTPRKASGPPVSELITKAVAASKERSGVSLAALKKALAAAGYDVEKNNSRIKLGLKSLVSKGTLVQTKGTGASGSFKLNKKAASGEAKPKVKKAGGTKPKKPVGAAKKPKKAAGGATPKKSAKKTPKKAKKPAAATVTKKVAKSPKKAKVAKPKKAAKSAAKAVKPKAAKPKVVKPKKAAPKKK'}]\n",
      "[{'UniProtKB': 'P16403', 'Accession': 'PF00538', 'Identifier': 'Linker_histone', 'Start': 37, 'Stop': 108, 'Sequence': 'MSETAPAAPAAAPPAEKAPVKKKAAKKAGGTPRKASGPPVSELITKAVAASKERSGVSLAALKKALAAAGYDVEKNNSRIKLGLKSLVSKGTLVQTKGTGASGSFKLNKKAASGEAKPKVKKAGGTKPKKPVGAAKKPKKAAGGATPKKSAKKTPKKAKKPAAATVTKKVAKSPKKAKVAKPKKAAKSAAKAVKPKAAKPKVVKPKKAAPKKK'}]\n",
      "[{'UniProtKB': 'P16403', 'Accession': 'PF00538', 'Identifier': 'Linker_histone', 'Start': 37, 'Stop': 108, 'Sequence': 'MSETAPAAPAAAPPAEKAPVKKKAAKKAGGTPRKASGPPVSELITKAVAASKERSGVSLAALKKALAAAGYDVEKNNSRIKLGLKSLVSKGTLVQTKGTGASGSFKLNKKAASGEAKPKVKKAGGTKPKKPVGAAKKPKKAAGGATPKKSAKKTPKKAKKPAAATVTKKVAKSPKKAKVAKPKKAAKSAAKAVKPKAAKPKVVKPKKAAPKKK'}]\n",
      "[{'UniProtKB': 'P16403', 'Accession': 'PF00538', 'Identifier': 'Linker_histone', 'Start': 37, 'Stop': 108, 'Sequence': 'MSETAPAAPAAAPPAEKAPVKKKAAKKAGGTPRKASGPPVSELITKAVAASKERSGVSLAALKKALAAAGYDVEKNNSRIKLGLKSLVSKGTLVQTKGTGASGSFKLNKKAASGEAKPKVKKAGGTKPKKPVGAAKKPKKAAGGATPKKSAKKTPKKAKKPAAATVTKKVAKSPKKAKVAKPKKAAKSAAKAVKPKAAKPKVVKPKKAAPKKK'}]\n",
      "from the script!\n",
      "{'UniProtKB': 'P16403', 'Accession': 'PF00538', 'Identifier': 'Linker_histone', 'Start': 37, 'Stop': 108, 'Sequence': 'MSETAPAAPAAAPPAEKAPVKKKAAKKAGGTPRKASGPPVSELITKAVAASKERSGVSLAALKKALAAAGYDVEKNNSRIKLGLKSLVSKGTLVQTKGTGASGSFKLNKKAASGEAKPKVKKAGGTKPKKPVGAAKKPKKAAGGATPKKSAKKTPKKAKKPAAATVTKKVAKSPKKAKVAKPKKAAKSAAKAVKPKAAKPKVVKPKKAAPKKK'}\n",
      "[{'UniProtKB': 'P16403', 'Accession': 'PF00538', 'Identifier': 'Linker_histone', 'Start': 37, 'Stop': 108, 'Sequence': 'MSETAPAAPAAAPPAEKAPVKKKAAKKAGGTPRKASGPPVSELITKAVAASKERSGVSLAALKKALAAAGYDVEKNNSRIKLGLKSLVSKGTLVQTKGTGASGSFKLNKKAASGEAKPKVKKAGGTKPKKPVGAAKKPKKAAGGATPKKSAKKTPKKAKKPAAATVTKKVAKSPKKAKVAKPKKAAKSAAKAVKPKAAKPKVVKPKKAAPKKK'}]\n",
      "from the script!\n",
      "{'UniProtKB': 'P16403', 'Accession': 'PF00538', 'Identifier': 'Linker_histone', 'Start': 1, 'Stop': 213, 'Sequence': 'MSETAPAAPAAAPPAEKAPVKKKAAKKAGGTPRKASGPPVSELITKAVAASKERSGVSLAALKKALAAAGYDVEKNNSRIKLGLKSLVSKGTLVQTKGTGASGSFKLNKKAASGEAKPKVKKAGGTKPKKPVGAAKKPKKAAGGATPKKSAKKTPKKAKKPAAATVTKKVAKSPKKAKVAKPKKAAKSAAKAVKPKAAKPKVVKPKKAAPKKK', 'Notes': 'Pfam with flanking region'}\n",
      "[{'UniProtKB': 'P16403', 'fasta_header': '>P16403_full_protein', 'fasta_sequence': 'MSETAPAAPAAAPPAEKAPVKKKAAKKAGGTPRKASGPPVSELITKAVAASKERSGVSLAALKKALAAAGYDVEKNNSRIKLGLKSLVSKGTLVQTKGTGASGSFKLNKKAASGEAKPKVKKAGGTKPKKPVGAAKKPKKAAGGATPKKSAKKTPKKAKKPAAATVTKKVAKSPKKAKVAKPKKAAKSAAKAVKPKAAKPKVVKPKKAAPKKK', 'notes': 'Full protein (incomplete crystal coverage)'}, {'UniProtKB': 'P16403', 'fasta_header': '>P16403_PF00538_Linker_histone_1_213', 'fasta_sequence': 'MSETAPAAPAAAPPAEKAPVKKKAAKKAGGTPRKASGPPVSELITKAVAASKERSGVSLAALKKALAAAGYDVEKNNSRIKLGLKSLVSKGTLVQTKGTGASGSFKLNKKAASGEAKPKVKKAGGTKPKKPVGAAKKPKKAAGGATPKKSAKKTPKKAKKPAAATVTKKVAKSPKKAKVAKPKKAAKSAAKAVKPKAAKPKVVKPKKAAPKKK', 'notes': 'Full pfam'}]\n",
      "Q7Z4J2\n",
      "Q9P2D7\n",
      "Q14393\n",
      "Q9GZS1\n",
      "F5GX99\n",
      "F5GX99\n",
      "F5GX99\n",
      "Q9UJ41\n",
      "Q9UFH2\n"
     ]
    }
   ],
   "source": [
    "import copy\n",
    "\n",
    "segments_to_model = []\n",
    "errors = []\n",
    "indexing_errors = 0 \n",
    "indexing_success = 0\n",
    "\n",
    "for protein in proteins:\n",
    "    try:\n",
    "        uniprot_crystal_protein = lookup_uniprot_crystal[protein]\n",
    "    except:\n",
    "        errors.append(protein)\n",
    "        continue\n",
    "        \n",
    "    if(protein == 'P16403'):\n",
    "        print(copy.deepcopy(lookup_uniprot_pfams[protein]))\n",
    "        \n",
    "    full_sequence = uniprot_crystal_protein[0][\"Sequence\"]\n",
    "    \n",
    "    if uniprot_crystal_protein[0][\"Crystal\"] == \"No\":\n",
    "        crystal_dicts = []\n",
    "    else:\n",
    "        crystal_dicts = lookup_uniprot_crystals[protein]\n",
    "        \n",
    "    try:\n",
    "        pfam_dicts = copy.deepcopy(lookup_uniprot_pfams[protein])\n",
    "        \n",
    "    except Exception as e:\n",
    "        pfam_dicts = []\n",
    "        \n",
    "    if(protein == 'P16403'):\n",
    "        print(copy.deepcopy(lookup_uniprot_pfams[protein]))\n",
    "        \n",
    "    # Clean pfams to not be longer than the protein sequence\n",
    "    # Choice: The pfam database is based on UniProt, so whenever pfam\n",
    "    # thinks that it's pfams go longer than the sequence (derived from UniProt)\n",
    "    # We should just truncate that pfam annotation\n",
    "    # Update. Some of these are very off. Let's just model the whole protein in that case\n",
    "    for pfam_dict in pfam_dicts:\n",
    "        if (pfam_dict[\"Stop\"] > len(full_sequence)) | (pfam_dict[\"Start\"] > len(full_sequence)):\n",
    "            pfam_dicts = []\n",
    "            indexing_errors = indexing_errors + 1\n",
    "            print(protein)\n",
    "        else:\n",
    "            indexing_success = indexing_success + 1\n",
    "            \n",
    "    if(protein == 'P16403'):\n",
    "        print(copy.deepcopy(lookup_uniprot_pfams[protein]))\n",
    "    \n",
    "    for segment in get_segments_to_model(protein, full_sequence, pfam_dicts, crystal_dicts):\n",
    "        segments_to_model.append(segment)\n",
    "        \n",
    "    if(protein == 'P16403'):\n",
    "        print(copy.deepcopy(lookup_uniprot_pfams[protein]))\n",
    "        print(get_segments_to_model(protein, full_sequence, pfam_dicts, crystal_dicts))"
   ]
  },
  {
   "cell_type": "code",
   "execution_count": 15,
   "metadata": {},
   "outputs": [
    {
     "data": {
      "text/plain": [
       "[{'UniProtKB': 'P16403',\n",
       "  'Accession': 'PF00538',\n",
       "  'Identifier': 'Linker_histone',\n",
       "  'Start': 37,\n",
       "  'Stop': 108,\n",
       "  'Sequence': 'MSETAPAAPAAAPPAEKAPVKKKAAKKAGGTPRKASGPPVSELITKAVAASKERSGVSLAALKKALAAAGYDVEKNNSRIKLGLKSLVSKGTLVQTKGTGASGSFKLNKKAASGEAKPKVKKAGGTKPKKPVGAAKKPKKAAGGATPKKSAKKTPKKAKKPAAATVTKKVAKSPKKAKVAKPKKAAKSAAKAVKPKAAKPKVVKPKKAAPKKK'}]"
      ]
     },
     "execution_count": 15,
     "metadata": {},
     "output_type": "execute_result"
    }
   ],
   "source": [
    "protein = 'P16403'\n",
    "lookup_uniprot_pfams[protein]"
   ]
  },
  {
   "cell_type": "code",
   "execution_count": 16,
   "metadata": {},
   "outputs": [],
   "source": [
    "seqs = pd.DataFrame(segments_to_model)"
   ]
  },
  {
   "cell_type": "code",
   "execution_count": 18,
   "metadata": {},
   "outputs": [
    {
     "data": {
      "text/html": [
       "<div>\n",
       "<style scoped>\n",
       "    .dataframe tbody tr th:only-of-type {\n",
       "        vertical-align: middle;\n",
       "    }\n",
       "\n",
       "    .dataframe tbody tr th {\n",
       "        vertical-align: top;\n",
       "    }\n",
       "\n",
       "    .dataframe thead th {\n",
       "        text-align: right;\n",
       "    }\n",
       "</style>\n",
       "<table border=\"1\" class=\"dataframe\">\n",
       "  <thead>\n",
       "    <tr style=\"text-align: right;\">\n",
       "      <th></th>\n",
       "      <th>UniProtKB</th>\n",
       "      <th>fasta_header</th>\n",
       "      <th>fasta_sequence</th>\n",
       "      <th>notes</th>\n",
       "    </tr>\n",
       "  </thead>\n",
       "  <tbody>\n",
       "    <tr>\n",
       "      <th>175</th>\n",
       "      <td>P16403</td>\n",
       "      <td>&gt;P16403_full_protein</td>\n",
       "      <td>MSETAPAAPAAAPPAEKAPVKKKAAKKAGGTPRKASGPPVSELITK...</td>\n",
       "      <td>Full protein (incomplete crystal coverage)</td>\n",
       "    </tr>\n",
       "    <tr>\n",
       "      <th>176</th>\n",
       "      <td>P16403</td>\n",
       "      <td>&gt;P16403_PF00538_Linker_histone_1_213</td>\n",
       "      <td>MSETAPAAPAAAPPAEKAPVKKKAAKKAGGTPRKASGPPVSELITK...</td>\n",
       "      <td>Pfam with flanking region</td>\n",
       "    </tr>\n",
       "    <tr>\n",
       "      <th>177</th>\n",
       "      <td>P16403</td>\n",
       "      <td>&gt;P16403_PF00538_Linker_histone_1_213</td>\n",
       "      <td>MSETAPAAPAAAPPAEKAPVKKKAAKKAGGTPRKASGPPVSELITK...</td>\n",
       "      <td>Pfam with flanking region</td>\n",
       "    </tr>\n",
       "  </tbody>\n",
       "</table>\n",
       "</div>"
      ],
      "text/plain": [
       "    UniProtKB                          fasta_header  \\\n",
       "175    P16403                  >P16403_full_protein   \n",
       "176    P16403  >P16403_PF00538_Linker_histone_1_213   \n",
       "177    P16403  >P16403_PF00538_Linker_histone_1_213   \n",
       "\n",
       "                                        fasta_sequence  \\\n",
       "175  MSETAPAAPAAAPPAEKAPVKKKAAKKAGGTPRKASGPPVSELITK...   \n",
       "176  MSETAPAAPAAAPPAEKAPVKKKAAKKAGGTPRKASGPPVSELITK...   \n",
       "177  MSETAPAAPAAAPPAEKAPVKKKAAKKAGGTPRKASGPPVSELITK...   \n",
       "\n",
       "                                          notes  \n",
       "175  Full protein (incomplete crystal coverage)  \n",
       "176                   Pfam with flanking region  \n",
       "177                   Pfam with flanking region  "
      ]
     },
     "execution_count": 18,
     "metadata": {},
     "output_type": "execute_result"
    }
   ],
   "source": [
    "seqs[seqs.UniProtKB == \"P16403\"]"
   ]
  },
  {
   "cell_type": "code",
   "execution_count": 20,
   "metadata": {},
   "outputs": [
    {
     "ename": "TypeError",
     "evalue": "list indices must be integers or slices, not str",
     "output_type": "error",
     "traceback": [
      "\u001b[0;31m---------------------------------------------------------------------------\u001b[0m",
      "\u001b[0;31mTypeError\u001b[0m                                 Traceback (most recent call last)",
      "\u001b[0;32m<ipython-input-20-92b6a554d278>\u001b[0m in \u001b[0;36m<module>\u001b[0;34m\u001b[0m\n\u001b[1;32m      1\u001b[0m \u001b[0mprotein\u001b[0m \u001b[0;34m=\u001b[0m \u001b[0;34m'P16403'\u001b[0m\u001b[0;34m\u001b[0m\u001b[0;34m\u001b[0m\u001b[0m\n\u001b[1;32m      2\u001b[0m \u001b[0muniprot_crystal_protein\u001b[0m \u001b[0;34m=\u001b[0m \u001b[0mlookup_uniprot_crystal\u001b[0m\u001b[0;34m[\u001b[0m\u001b[0mprotein\u001b[0m\u001b[0;34m]\u001b[0m\u001b[0;34m\u001b[0m\u001b[0;34m\u001b[0m\u001b[0m\n\u001b[0;32m----> 3\u001b[0;31m \u001b[0mprint\u001b[0m\u001b[0;34m(\u001b[0m\u001b[0muniprot_crystal_protein\u001b[0m\u001b[0;34m[\u001b[0m\u001b[0mprotein\u001b[0m\u001b[0;34m]\u001b[0m\u001b[0;34m)\u001b[0m\u001b[0;34m\u001b[0m\u001b[0;34m\u001b[0m\u001b[0m\n\u001b[0m",
      "\u001b[0;31mTypeError\u001b[0m: list indices must be integers or slices, not str"
     ]
    }
   ],
   "source": [
    "protein = 'P16403'\n",
    "uniprot_crystal_protein = lookup_uniprot_crystal[protein]\n",
    "print(uniprot_crystal_protein[protein])"
   ]
  },
  {
   "cell_type": "code",
   "execution_count": 23,
   "metadata": {},
   "outputs": [
    {
     "data": {
      "text/plain": [
       "[{'Protein': 'P16403',\n",
       "  'Sequence': 'MSETAPAAPAAAPPAEKAPVKKKAAKKAGGTPRKASGPPVSELITKAVAASKERSGVSLAALKKALAAAGYDVEKNNSRIKLGLKSLVSKGTLVQTKGTGASGSFKLNKKAASGEAKPKVKKAGGTKPKKPVGAAKKPKKAAGGATPKKSAKKTPKKAKKPAAATVTKKVAKSPKKAKVAKPKKAAKSAAKAVKPKAAKPKVVKPKKAAPKKK',\n",
       "  'Crystal': 'No'}]"
      ]
     },
     "execution_count": 23,
     "metadata": {},
     "output_type": "execute_result"
    }
   ],
   "source": [
    "get_segments_to_model(protein, full_sequence, pfam_dicts, crystal_dicts)"
   ]
  },
  {
   "cell_type": "code",
   "execution_count": 3,
   "metadata": {},
   "outputs": [
    {
     "ename": "ModuleNotFoundError",
     "evalue": "No module named 'protein_modeling'",
     "output_type": "error",
     "traceback": [
      "\u001b[0;31m---------------------------------------------------------------------------\u001b[0m",
      "\u001b[0;31mModuleNotFoundError\u001b[0m                       Traceback (most recent call last)",
      "\u001b[0;32m<ipython-input-3-624f34381d53>\u001b[0m in \u001b[0;36m<module>\u001b[0;34m\u001b[0m\n\u001b[0;32m----> 1\u001b[0;31m \u001b[0;32mfrom\u001b[0m \u001b[0mprotein_modeling\u001b[0m \u001b[0;32mimport\u001b[0m \u001b[0;34m*\u001b[0m\u001b[0;34m\u001b[0m\u001b[0;34m\u001b[0m\u001b[0m\n\u001b[0m\u001b[1;32m      2\u001b[0m \u001b[0;32mimport\u001b[0m \u001b[0mpickle\u001b[0m\u001b[0;34m\u001b[0m\u001b[0;34m\u001b[0m\u001b[0m\n\u001b[1;32m      3\u001b[0m \u001b[0;32mimport\u001b[0m \u001b[0mcopy\u001b[0m\u001b[0;34m\u001b[0m\u001b[0;34m\u001b[0m\u001b[0m\n\u001b[1;32m      4\u001b[0m \u001b[0;34m\u001b[0m\u001b[0m\n\u001b[1;32m      5\u001b[0m \u001b[0;32mwith\u001b[0m \u001b[0mopen\u001b[0m\u001b[0;34m(\u001b[0m\u001b[0;34m\"pickle_07232019_pfam_annotation.txt\"\u001b[0m\u001b[0;34m,\u001b[0m \u001b[0;34m\"rb\"\u001b[0m\u001b[0;34m)\u001b[0m \u001b[0;32mas\u001b[0m \u001b[0mfp\u001b[0m\u001b[0;34m:\u001b[0m   \u001b[0;31m# Unpickling\u001b[0m\u001b[0;34m\u001b[0m\u001b[0;34m\u001b[0m\u001b[0m\n",
      "\u001b[0;31mModuleNotFoundError\u001b[0m: No module named 'protein_modeling'"
     ]
    }
   ],
   "source": [
    "from protein_modeling import *\n",
    "import pickle\n",
    "import copy\n",
    "\n",
    "with open(\"pickle_07232019_pfam_annotation.txt\", \"rb\") as fp:   # Unpickling\n",
    "    pfam_annotation = pickle.load(fp)\n",
    "    \n",
    "with open(\"pickle_07232019_crystal_annotation.txt\", \"rb\") as fp:\n",
    "    crystal_annotation = pickle.load(fp)\n",
    "    \n",
    "with open(\"pickle_07232019_protein_crystal.txt\", \"rb\") as fp:\n",
    "    protein_crystal = pickle.load(fp)\n",
    "    \n",
    "lookup_uniprot_pfams = list_to_lookup(pfam_annotation, \"UniProtKB\")\n",
    "lookup_uniprot_crystal = list_to_lookup(protein_crystal, \"Protein\")\n",
    "lookup_uniprot_crystals = list_to_lookup(crystal_annotation, \"UniProtKB\")\n",
    "\n",
    "protein = 'P16403'\n",
    "\n",
    "uniprot_crystal_protein = lookup_uniprot_crystal[protein]\n",
    "full_sequence = uniprot_crystal_protein[0][\"Sequence\"]\n",
    "if uniprot_crystal_protein[0][\"Crystal\"] == \"No\":\n",
    "    crystal_dicts = []\n",
    "else:\n",
    "    crystal_dicts = lookup_uniprot_crystals[protein]\n",
    "        \n",
    "try:\n",
    "    pfam_dicts = copy.deepcopy(lookup_uniprot_pfams[protein])  \n",
    "except Exception as e:\n",
    "        pfam_dicts = []        "
   ]
  },
  {
   "cell_type": "code",
   "execution_count": 2,
   "metadata": {},
   "outputs": [
    {
     "ename": "NameError",
     "evalue": "name 'protein' is not defined",
     "output_type": "error",
     "traceback": [
      "\u001b[0;31m---------------------------------------------------------------------------\u001b[0m",
      "\u001b[0;31mNameError\u001b[0m                                 Traceback (most recent call last)",
      "\u001b[0;32m<ipython-input-2-d6f95e2ca038>\u001b[0m in \u001b[0;36m<module>\u001b[0;34m\u001b[0m\n\u001b[0;32m----> 1\u001b[0;31m \u001b[0mprint\u001b[0m\u001b[0;34m(\u001b[0m\u001b[0mprotein\u001b[0m\u001b[0;34m)\u001b[0m\u001b[0;34m\u001b[0m\u001b[0;34m\u001b[0m\u001b[0m\n\u001b[0m\u001b[1;32m      2\u001b[0m \u001b[0mprint\u001b[0m\u001b[0;34m(\u001b[0m\u001b[0mfull_sequence\u001b[0m\u001b[0;34m)\u001b[0m\u001b[0;34m\u001b[0m\u001b[0;34m\u001b[0m\u001b[0m\n\u001b[1;32m      3\u001b[0m \u001b[0mprint\u001b[0m\u001b[0;34m(\u001b[0m\u001b[0mpfam_dicts\u001b[0m\u001b[0;34m)\u001b[0m\u001b[0;34m\u001b[0m\u001b[0;34m\u001b[0m\u001b[0m\n\u001b[1;32m      4\u001b[0m \u001b[0mprint\u001b[0m\u001b[0;34m(\u001b[0m\u001b[0mcrystal_dicts\u001b[0m\u001b[0;34m)\u001b[0m\u001b[0;34m\u001b[0m\u001b[0;34m\u001b[0m\u001b[0m\n",
      "\u001b[0;31mNameError\u001b[0m: name 'protein' is not defined"
     ]
    }
   ],
   "source": [
    "print(protein)\n",
    "print(full_sequence)\n",
    "print(pfam_dicts)\n",
    "print(crystal_dicts)"
   ]
  },
  {
   "cell_type": "code",
   "execution_count": 3,
   "metadata": {},
   "outputs": [
    {
     "name": "stdout",
     "output_type": "stream",
     "text": [
      "[{'UniProtKB': 'P16403', 'Accession': 'PF00538', 'Identifier': 'Linker_histone', 'Start': 37, 'Stop': 108, 'Sequence': 'MSETAPAAPAAAPPAEKAPVKKKAAKKAGGTPRKASGPPVSELITKAVAASKERSGVSLAALKKALAAAGYDVEKNNSRIKLGLKSLVSKGTLVQTKGTGASGSFKLNKKAASGEAKPKVKKAGGTKPKKPVGAAKKPKKAAGGATPKKSAKKTPKKAKKPAAATVTKKVAKSPKKAKVAKPKKAAKSAAKAVKPKAAKPKVVKPKKAAPKKK', 'Notes': 'Full pfam'}]\n",
      "[{'UniProtKB': 'P16403', 'Accession': 'PF00538', 'Identifier': 'Linker_histone', 'Start': 37, 'Stop': 108, 'Sequence': 'MSETAPAAPAAAPPAEKAPVKKKAAKKAGGTPRKASGPPVSELITKAVAASKERSGVSLAALKKALAAAGYDVEKNNSRIKLGLKSLVSKGTLVQTKGTGASGSFKLNKKAASGEAKPKVKKAGGTKPKKPVGAAKKPKKAAGGATPKKSAKKTPKKAKKPAAATVTKKVAKSPKKAKVAKPKKAAKSAAKAVKPKAAKPKVVKPKKAAPKKK', 'Notes': 'Full pfam'}]\n",
      "[{'UniProtKB': 'P16403', 'Accession': 'PF00538', 'Identifier': 'Linker_histone', 'Start': 37, 'Stop': 108, 'Sequence': 'MSETAPAAPAAAPPAEKAPVKKKAAKKAGGTPRKASGPPVSELITKAVAASKERSGVSLAALKKALAAAGYDVEKNNSRIKLGLKSLVSKGTLVQTKGTGASGSFKLNKKAASGEAKPKVKKAGGTKPKKPVGAAKKPKKAAGGATPKKSAKKTPKKAKKPAAATVTKKVAKSPKKAKVAKPKKAAKSAAKAVKPKAAKPKVVKPKKAAPKKK', 'Notes': 'Full pfam'}]\n",
      "[{'UniProtKB': 'P16403', 'Accession': 'PF00538', 'Identifier': 'Linker_histone', 'Start': 37, 'Stop': 108, 'Sequence': 'MSETAPAAPAAAPPAEKAPVKKKAAKKAGGTPRKASGPPVSELITKAVAASKERSGVSLAALKKALAAAGYDVEKNNSRIKLGLKSLVSKGTLVQTKGTGASGSFKLNKKAASGEAKPKVKKAGGTKPKKPVGAAKKPKKAAGGATPKKSAKKTPKKAKKPAAATVTKKVAKSPKKAKVAKPKKAAKSAAKAVKPKAAKPKVVKPKKAAPKKK', 'Notes': 'Full pfam'}, {'UniProtKB': 'P16403', 'Accession': 'PF00538', 'Identifier': 'Linker_histone', 'Start': 1, 'Stop': 213, 'Sequence': 'MSETAPAAPAAAPPAEKAPVKKKAAKKAGGTPRKASGPPVSELITKAVAASKERSGVSLAALKKALAAAGYDVEKNNSRIKLGLKSLVSKGTLVQTKGTGASGSFKLNKKAASGEAKPKVKKAGGTKPKKPVGAAKKPKKAAGGATPKKSAKKTPKKAKKPAAATVTKKVAKSPKKAKVAKPKKAAKSAAKAVKPKAAKPKVVKPKKAAPKKK', 'Notes': 'Pfam with flanking region'}]\n"
     ]
    },
    {
     "data": {
      "text/plain": [
       "[{'UniProtKB': 'P16403',\n",
       "  'fasta_header': '>P16403_full_protein',\n",
       "  'fasta_sequence': 'MSETAPAAPAAAPPAEKAPVKKKAAKKAGGTPRKASGPPVSELITKAVAASKERSGVSLAALKKALAAAGYDVEKNNSRIKLGLKSLVSKGTLVQTKGTGASGSFKLNKKAASGEAKPKVKKAGGTKPKKPVGAAKKPKKAAGGATPKKSAKKTPKKAKKPAAATVTKKVAKSPKKAKVAKPKKAAKSAAKAVKPKAAKPKVVKPKKAAPKKK',\n",
       "  'notes': 'Full protein (incomplete crystal coverage)'},\n",
       " {'UniProtKB': 'P16403',\n",
       "  'fasta_header': '>P16403_PF00538_Linker_histone_37_108',\n",
       "  'fasta_sequence': 'GPPVSELITKAVAASKERSGVSLAALKKALAAAGYDVEKNNSRIKLGLKSLVSKGTLVQTKGTGASGSFKLN',\n",
       "  'notes': 'Full pfam'},\n",
       " {'UniProtKB': 'P16403',\n",
       "  'fasta_header': '>P16403_PF00538_Linker_histone_1_213',\n",
       "  'fasta_sequence': 'MSETAPAAPAAAPPAEKAPVKKKAAKKAGGTPRKASGPPVSELITKAVAASKERSGVSLAALKKALAAAGYDVEKNNSRIKLGLKSLVSKGTLVQTKGTGASGSFKLNKKAASGEAKPKVKKAGGTKPKKPVGAAKKPKKAAGGATPKKSAKKTPKKAKKPAAATVTKKVAKSPKKAKVAKPKKAAKSAAKAVKPKAAKPKVVKPKKAAPKKK',\n",
       "  'notes': 'Pfam with flanking region'}]"
      ]
     },
     "execution_count": 3,
     "metadata": {},
     "output_type": "execute_result"
    }
   ],
   "source": [
    "get_segments_to_model(protein, full_sequence, pfam_dicts, crystal_dicts)"
   ]
  },
  {
   "cell_type": "code",
   "execution_count": null,
   "metadata": {},
   "outputs": [],
   "source": []
  }
 ],
 "metadata": {
  "kernelspec": {
   "display_name": "Python 3",
   "language": "python",
   "name": "python3"
  },
  "language_info": {
   "codemirror_mode": {
    "name": "ipython",
    "version": 3
   },
   "file_extension": ".py",
   "mimetype": "text/x-python",
   "name": "python",
   "nbconvert_exporter": "python",
   "pygments_lexer": "ipython3",
   "version": "3.7.3"
  }
 },
 "nbformat": 4,
 "nbformat_minor": 2
}
