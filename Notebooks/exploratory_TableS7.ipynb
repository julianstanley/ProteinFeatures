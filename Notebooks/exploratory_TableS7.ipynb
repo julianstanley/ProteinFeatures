{
 "cells": [
  {
   "cell_type": "code",
   "execution_count": 1,
   "metadata": {},
   "outputs": [],
   "source": [
    "import pandas as pd"
   ]
  },
  {
   "cell_type": "code",
   "execution_count": 7,
   "metadata": {},
   "outputs": [],
   "source": [
    "trainingDataFeatures = pd.read_csv(\"../data/Table S7 CS training data with all features.csv\")"
   ]
  },
  {
   "cell_type": "code",
   "execution_count": 8,
   "metadata": {},
   "outputs": [
    {
     "data": {
      "text/html": [
       "<div>\n",
       "<style scoped>\n",
       "    .dataframe tbody tr th:only-of-type {\n",
       "        vertical-align: middle;\n",
       "    }\n",
       "\n",
       "    .dataframe tbody tr th {\n",
       "        vertical-align: top;\n",
       "    }\n",
       "\n",
       "    .dataframe thead th {\n",
       "        text-align: right;\n",
       "    }\n",
       "</style>\n",
       "<table border=\"1\" class=\"dataframe\">\n",
       "  <thead>\n",
       "    <tr style=\"text-align: right;\">\n",
       "      <th></th>\n",
       "      <th>Site by Reference Sequence</th>\n",
       "      <th>Site by Structure</th>\n",
       "      <th>AA</th>\n",
       "      <th>Position</th>\n",
       "      <th>Positive or Negative for Carbonylation</th>\n",
       "      <th>Surrounding 21mer</th>\n",
       "      <th>Organism</th>\n",
       "      <th>Protein ID</th>\n",
       "      <th>Protein ID (alternative)</th>\n",
       "      <th>Structure File</th>\n",
       "      <th>...</th>\n",
       "      <th>P0AG67_itasser.pdb_K449</th>\n",
       "      <th>P0AG67_itasser.pdb_K450</th>\n",
       "      <th>P0AG67_itasser.pdb_K457</th>\n",
       "      <th>P0AG67_itasser.pdb_K464</th>\n",
       "      <th>P0AG67_itasser.pdb_P440</th>\n",
       "      <th>P0AG67_itasser.pdb_R426</th>\n",
       "      <th>P0AG67_itasser.pdb_R479</th>\n",
       "      <th>P0AG67_itasser.pdb_T455</th>\n",
       "      <th>P0AG67_itasser.pdb_T459</th>\n",
       "      <th>P0AG67_itasser.pdb_T467</th>\n",
       "    </tr>\n",
       "  </thead>\n",
       "  <tbody>\n",
       "    <tr>\n",
       "      <th>0</th>\n",
       "      <td>DR0312_K115</td>\n",
       "      <td>2zjr_C.pdb_K116</td>\n",
       "      <td>K</td>\n",
       "      <td>116</td>\n",
       "      <td>1</td>\n",
       "      <td>MAIASRQEGGKLVAVDGFDIA</td>\n",
       "      <td>Deinococcus radiodurans</td>\n",
       "      <td>DR0312</td>\n",
       "      <td>Q9RXK1</td>\n",
       "      <td>2zjr_C.pdb</td>\n",
       "      <td>...</td>\n",
       "      <td>-0.8</td>\n",
       "      <td>1.2</td>\n",
       "      <td>4.6</td>\n",
       "      <td>1.6</td>\n",
       "      <td>-0.4</td>\n",
       "      <td>2.0</td>\n",
       "      <td>0.6</td>\n",
       "      <td>1.0</td>\n",
       "      <td>2.2</td>\n",
       "      <td>5.6</td>\n",
       "    </tr>\n",
       "    <tr>\n",
       "      <th>1</th>\n",
       "      <td>DR0312_K128</td>\n",
       "      <td>2zjr_C.pdb_K129</td>\n",
       "      <td>K</td>\n",
       "      <td>129</td>\n",
       "      <td>0</td>\n",
       "      <td>AVDGFDIADAKTKNFISWAKQ</td>\n",
       "      <td>Deinococcus radiodurans</td>\n",
       "      <td>DR0312</td>\n",
       "      <td>Q9RXK1</td>\n",
       "      <td>2zjr_C.pdb</td>\n",
       "      <td>...</td>\n",
       "      <td>3.4</td>\n",
       "      <td>0.4</td>\n",
       "      <td>1.0</td>\n",
       "      <td>3.4</td>\n",
       "      <td>4.2</td>\n",
       "      <td>2.4</td>\n",
       "      <td>1.0</td>\n",
       "      <td>-0.2</td>\n",
       "      <td>-1.8</td>\n",
       "      <td>3.2</td>\n",
       "    </tr>\n",
       "    <tr>\n",
       "      <th>2</th>\n",
       "      <td>DR0312_K86</td>\n",
       "      <td>2zjr_C.pdb_K87</td>\n",
       "      <td>K</td>\n",
       "      <td>87</td>\n",
       "      <td>0</td>\n",
       "      <td>FVGGGVAFGPKPRSYDYTLPR</td>\n",
       "      <td>Deinococcus radiodurans</td>\n",
       "      <td>DR0312</td>\n",
       "      <td>Q9RXK1</td>\n",
       "      <td>2zjr_C.pdb</td>\n",
       "      <td>...</td>\n",
       "      <td>1.0</td>\n",
       "      <td>2.4</td>\n",
       "      <td>0.8</td>\n",
       "      <td>3.4</td>\n",
       "      <td>-1.0</td>\n",
       "      <td>0.2</td>\n",
       "      <td>-0.4</td>\n",
       "      <td>-2.4</td>\n",
       "      <td>0.2</td>\n",
       "      <td>0.2</td>\n",
       "    </tr>\n",
       "    <tr>\n",
       "      <th>3</th>\n",
       "      <td>DR0312_K86</td>\n",
       "      <td>2zjr_C.pdb_K87</td>\n",
       "      <td>K</td>\n",
       "      <td>87</td>\n",
       "      <td>0</td>\n",
       "      <td>FVGGGVAFGPKPRSYDYTLPR</td>\n",
       "      <td>Deinococcus radiodurans</td>\n",
       "      <td>DR0312</td>\n",
       "      <td>Q9RXK1</td>\n",
       "      <td>2zjr_C.pdb</td>\n",
       "      <td>...</td>\n",
       "      <td>1.0</td>\n",
       "      <td>2.4</td>\n",
       "      <td>0.8</td>\n",
       "      <td>3.4</td>\n",
       "      <td>-1.0</td>\n",
       "      <td>0.2</td>\n",
       "      <td>-0.4</td>\n",
       "      <td>-2.4</td>\n",
       "      <td>0.2</td>\n",
       "      <td>0.2</td>\n",
       "    </tr>\n",
       "    <tr>\n",
       "      <th>4</th>\n",
       "      <td>DR0312_K86</td>\n",
       "      <td>2zjr_C.pdb_K87</td>\n",
       "      <td>K</td>\n",
       "      <td>87</td>\n",
       "      <td>0</td>\n",
       "      <td>FVGGGVAFGPKPRSYDYTLPR</td>\n",
       "      <td>Deinococcus radiodurans</td>\n",
       "      <td>DR0312</td>\n",
       "      <td>Q9RXK1</td>\n",
       "      <td>2zjr_C.pdb</td>\n",
       "      <td>...</td>\n",
       "      <td>1.0</td>\n",
       "      <td>2.4</td>\n",
       "      <td>0.8</td>\n",
       "      <td>3.4</td>\n",
       "      <td>-1.0</td>\n",
       "      <td>0.2</td>\n",
       "      <td>-0.4</td>\n",
       "      <td>-2.4</td>\n",
       "      <td>0.2</td>\n",
       "      <td>0.2</td>\n",
       "    </tr>\n",
       "  </tbody>\n",
       "</table>\n",
       "<p>5 rows × 1387 columns</p>\n",
       "</div>"
      ],
      "text/plain": [
       "  Site by Reference Sequence Site by Structure AA  Position  \\\n",
       "0                DR0312_K115   2zjr_C.pdb_K116  K       116   \n",
       "1                DR0312_K128   2zjr_C.pdb_K129  K       129   \n",
       "2                 DR0312_K86    2zjr_C.pdb_K87  K        87   \n",
       "3                 DR0312_K86    2zjr_C.pdb_K87  K        87   \n",
       "4                 DR0312_K86    2zjr_C.pdb_K87  K        87   \n",
       "\n",
       "   Positive or Negative for Carbonylation      Surrounding 21mer  \\\n",
       "0                                       1  MAIASRQEGGKLVAVDGFDIA   \n",
       "1                                       0  AVDGFDIADAKTKNFISWAKQ   \n",
       "2                                       0  FVGGGVAFGPKPRSYDYTLPR   \n",
       "3                                       0  FVGGGVAFGPKPRSYDYTLPR   \n",
       "4                                       0  FVGGGVAFGPKPRSYDYTLPR   \n",
       "\n",
       "                  Organism Protein ID Protein ID (alternative) Structure File  \\\n",
       "0  Deinococcus radiodurans     DR0312                   Q9RXK1     2zjr_C.pdb   \n",
       "1  Deinococcus radiodurans     DR0312                   Q9RXK1     2zjr_C.pdb   \n",
       "2  Deinococcus radiodurans     DR0312                   Q9RXK1     2zjr_C.pdb   \n",
       "3  Deinococcus radiodurans     DR0312                   Q9RXK1     2zjr_C.pdb   \n",
       "4  Deinococcus radiodurans     DR0312                   Q9RXK1     2zjr_C.pdb   \n",
       "\n",
       "   ...  P0AG67_itasser.pdb_K449  P0AG67_itasser.pdb_K450  \\\n",
       "0  ...                     -0.8                      1.2   \n",
       "1  ...                      3.4                      0.4   \n",
       "2  ...                      1.0                      2.4   \n",
       "3  ...                      1.0                      2.4   \n",
       "4  ...                      1.0                      2.4   \n",
       "\n",
       "   P0AG67_itasser.pdb_K457  P0AG67_itasser.pdb_K464  P0AG67_itasser.pdb_P440  \\\n",
       "0                      4.6                      1.6                     -0.4   \n",
       "1                      1.0                      3.4                      4.2   \n",
       "2                      0.8                      3.4                     -1.0   \n",
       "3                      0.8                      3.4                     -1.0   \n",
       "4                      0.8                      3.4                     -1.0   \n",
       "\n",
       "   P0AG67_itasser.pdb_R426  P0AG67_itasser.pdb_R479  P0AG67_itasser.pdb_T455  \\\n",
       "0                      2.0                      0.6                      1.0   \n",
       "1                      2.4                      1.0                     -0.2   \n",
       "2                      0.2                     -0.4                     -2.4   \n",
       "3                      0.2                     -0.4                     -2.4   \n",
       "4                      0.2                     -0.4                     -2.4   \n",
       "\n",
       "   P0AG67_itasser.pdb_T459  P0AG67_itasser.pdb_T467  \n",
       "0                      2.2                      5.6  \n",
       "1                     -1.8                      3.2  \n",
       "2                      0.2                      0.2  \n",
       "3                      0.2                      0.2  \n",
       "4                      0.2                      0.2  \n",
       "\n",
       "[5 rows x 1387 columns]"
      ]
     },
     "execution_count": 8,
     "metadata": {},
     "output_type": "execute_result"
    }
   ],
   "source": [
    "trainingDataFeatures.head()"
   ]
  },
  {
   "cell_type": "code",
   "execution_count": 14,
   "metadata": {},
   "outputs": [
    {
     "data": {
      "text/plain": [
       "153"
      ]
     },
     "execution_count": 14,
     "metadata": {},
     "output_type": "execute_result"
    }
   ],
   "source": [
    "trainingDataFeatures[\"Protein ID\"].nunique()"
   ]
  },
  {
   "cell_type": "code",
   "execution_count": 15,
   "metadata": {},
   "outputs": [
    {
     "data": {
      "text/plain": [
       "153"
      ]
     },
     "execution_count": 15,
     "metadata": {},
     "output_type": "execute_result"
    }
   ],
   "source": [
    "trainingDataFeatures[\"Structure File\"].nunique()"
   ]
  },
  {
   "cell_type": "code",
   "execution_count": 16,
   "metadata": {},
   "outputs": [
    {
     "data": {
      "text/plain": [
       "998"
      ]
     },
     "execution_count": 16,
     "metadata": {},
     "output_type": "execute_result"
    }
   ],
   "source": [
    "trainingDataFeatures[\"Site by Reference Sequence\"].nunique()"
   ]
  },
  {
   "cell_type": "code",
   "execution_count": 13,
   "metadata": {},
   "outputs": [
    {
     "data": {
      "text/plain": [
       "153"
      ]
     },
     "execution_count": 13,
     "metadata": {},
     "output_type": "execute_result"
    }
   ],
   "source": [
    "import collections\n",
    "duplicates = [item for item, count in collections.Counter(mers21).items() if count > 1]\n",
    "\n",
    "duplicate_21mers = trainingDataFeatures_uniqueSite[\n",
    "    trainingDataFeatures_uniqueSite[\"Surrounding 21mer\"].isin(duplicates)]\n",
    "duplicate_21mers = duplicate_21mers.sort_values(\"Surrounding 21mer\")\n",
    "duplicate_21mers.to_csv(\"duplicate_21mers_fromS7.csv\")"
   ]
  },
  {
   "cell_type": "code",
   "execution_count": null,
   "metadata": {},
   "outputs": [],
   "source": [
    "cols = list(duplicate_21mers.columns)"
   ]
  },
  {
   "cell_type": "code",
   "execution_count": null,
   "metadata": {},
   "outputs": [],
   "source": [
    "\"E13083.pdb_P112\" in cols"
   ]
  }
 ],
 "metadata": {
  "kernelspec": {
   "display_name": "Python 3",
   "language": "python",
   "name": "python3"
  },
  "language_info": {
   "codemirror_mode": {
    "name": "ipython",
    "version": 3
   },
   "file_extension": ".py",
   "mimetype": "text/x-python",
   "name": "python",
   "nbconvert_exporter": "python",
   "pygments_lexer": "ipython3",
   "version": "3.7.3"
  }
 },
 "nbformat": 4,
 "nbformat_minor": 2
}
