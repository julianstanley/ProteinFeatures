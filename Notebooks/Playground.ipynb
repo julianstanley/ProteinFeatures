{
 "cells": [
  {
   "cell_type": "code",
   "execution_count": 1,
   "metadata": {},
   "outputs": [],
   "source": [
    "import numpy as np\n",
    "from Bio.SubsMat import MatrixInfo as matlist\n",
    "import nwalign3 as nw\n",
    "import math"
   ]
  },
  {
   "cell_type": "code",
   "execution_count": 9,
   "metadata": {},
   "outputs": [],
   "source": [
    "def pairwiseGlobalAlignment(seqs, matDir = \"\"):\n",
    "    ''' Align a set of amino acid sequences pairwise/amongst themselves\n",
    "\n",
    "    Args:\n",
    "        seqs (List[str]): A list of amino acid sequences of equal length \n",
    "        for pairwise alignment\n",
    "        \n",
    "        matDir (str, optional): The directory containing the alignment matrix\n",
    "\n",
    "    Returns:\n",
    "        ndarray(float): A matrix of alignment \n",
    "    \n",
    "    Notes:\n",
    "    This uses the HIJACK30 matrix, which must be included \n",
    "    in the working directory of this function. The matrix\n",
    "    is in standard NCBI format and is a modified BLOSUM30\n",
    "    matrix such that a '*' to '*' match has a score of 1000\n",
    "    and all matches with 'X' have a score of 0. \n",
    "    \n",
    "    '''\n",
    "    \n",
    "    # Store the number of sequences\n",
    "    numSeqs = len(seqs)\n",
    "    \n",
    "    # Initalize return results\n",
    "    scores = np.zeros((numSeqs, numSeqs))\n",
    "    lengths = np.zeros((numSeqs, numSeqs))\n",
    "            \n",
    "    # Note: using a non-parallelized for loop. If necessary, use \n",
    "    # multiprocessing module to speed up. \n",
    "    # Nested loop to compare all seqs against eachother\n",
    "    # Exclude i=j to not compare sequence with itself\n",
    "    for i in range(numSeqs):\n",
    "        for j in range(numSeqs):\n",
    "            # Get the two sequences to align\n",
    "            # (and their lengths for references\n",
    "            # Note: work with strings as mutable lists\n",
    "            seq1 = list(seqs[i])\n",
    "            seq1Len = len(seq1)\n",
    "            seq2 = list(seqs[j])\n",
    "            seq2Len = len(seq2)\n",
    "            \n",
    "            # Report back the minimum length of the two sequences\n",
    "            lengths[i,j] = min(seq1Len, seq2Len)\n",
    "\n",
    "            # Remember the number of the central residues in the two sequences\n",
    "            seq1CenterIndex = math.ceil(seq1Len/2)\n",
    "            seq2CenterIndex = math.ceil(seq2Len/2)\n",
    "            \n",
    "            # Parse central residues:\n",
    "            seq1Center = seq1[seq1CenterIndex]\n",
    "            seq2Center = seq2[seq2CenterIndex]\n",
    "            \n",
    "            # Replace central residues with '*' to force residue alignment\n",
    "            seq1[math.ceil(seq1Len/2)] = '*'\n",
    "            seq2[math.ceil(seq2Len/2)] = '*'\n",
    "            \n",
    "            # We should calculate the alignment score for both the \n",
    "            # sequences and the center residue using the HIJACK30 matrix\n",
    "            score = nw.score_alignment(\"\".join(seq1), \"\".join(seq2), \n",
    "                                      gap_open = 1000,\n",
    "                                      gap_extend = 1000,\n",
    "                                      matrix = matDir + 'HIJACK30')\n",
    "            scoreCenter = nw.score_alignment(seq1Center, seq2Center,\n",
    "                                            gap_open = 1000,\n",
    "                                            gap_extend = 1000,\n",
    "                                            matrix = matDir + 'HIJACK30')\n",
    "            \n",
    "            # The alignment scores should be scaled by 0.2\n",
    "            scoreScaled = 0.2 * score\n",
    "            scoreScaledCenter = 0.2 * scoreCenter\n",
    "            \n",
    "            # Correct the alignment score based on the center\n",
    "            scoreCorrected = scoreScaled + scoreScaledCenter - 1000*0.2\n",
    "            scores[i, j] = scoreCorrected\n",
    "            \n",
    "    return([scores, lengths])\n",
    "    "
   ]
  },
  {
   "cell_type": "code",
   "execution_count": 10,
   "metadata": {},
   "outputs": [
    {
     "name": "stdout",
     "output_type": "stream",
     "text": [
      "\u001b[0m\u001b[01;34mmatricies\u001b[0m/  \u001b[01;34mNotebooks\u001b[0m/  \u001b[01;34mOriginal_Copies\u001b[0m/  pairwiseGlobalAlignment.py\r\n"
     ]
    }
   ],
   "source": [
    "ls ../"
   ]
  },
  {
   "cell_type": "code",
   "execution_count": 11,
   "metadata": {},
   "outputs": [
    {
     "data": {
      "text/plain": [
       "array([[ 7.6,  5.4],\n",
       "       [ 5.4, 10.2]])"
      ]
     },
     "execution_count": 11,
     "metadata": {},
     "output_type": "execute_result"
    }
   ],
   "source": [
    "pairwiseGlobalAlignment([\"AAATTRQ\", \"AATTTWQ\"], \"../matricies/\")[0]"
   ]
  },
  {
   "cell_type": "code",
   "execution_count": 85,
   "metadata": {},
   "outputs": [],
   "source": [
    "seq1 = 'AAATTRQ'\n",
    "seq1Len = len(seq1)"
   ]
  },
  {
   "cell_type": "code",
   "execution_count": 87,
   "metadata": {},
   "outputs": [],
   "source": [
    "test = np.zeros((2,2))"
   ]
  },
  {
   "cell_type": "code",
   "execution_count": 90,
   "metadata": {},
   "outputs": [],
   "source": [
    "test[1,0] = 10"
   ]
  },
  {
   "cell_type": "code",
   "execution_count": 103,
   "metadata": {},
   "outputs": [
    {
     "name": "stdout",
     "output_type": "stream",
     "text": [
      "0\n",
      "0\n",
      "0\n",
      "1\n",
      "1\n",
      "0\n",
      "1\n",
      "1\n"
     ]
    }
   ],
   "source": [
    "for i in range(2):\n",
    "    for j in range(2):\n",
    "        print(i)\n",
    "        print(j)"
   ]
  },
  {
   "cell_type": "code",
   "execution_count": 64,
   "metadata": {},
   "outputs": [],
   "source": [
    "seq1 = seq1[1:math.ceil(seq1Len/2)-1] + '*' + seq1[math.ceil(seq1Len/2)+1:seq1Len]"
   ]
  },
  {
   "cell_type": "code",
   "execution_count": null,
   "metadata": {},
   "outputs": [],
   "source": []
  },
  {
   "cell_type": "code",
   "execution_count": 14,
   "metadata": {},
   "outputs": [
    {
     "data": {
      "text/plain": [
       "[2, 4]"
      ]
     },
     "execution_count": 14,
     "metadata": {},
     "output_type": "execute_result"
    }
   ],
   "source": [
    "list(map(lambda x:2*x, [1,2]))"
   ]
  },
  {
   "cell_type": "code",
   "execution_count": 38,
   "metadata": {},
   "outputs": [
    {
     "data": {
      "text/plain": [
       "2"
      ]
     },
     "execution_count": 38,
     "metadata": {},
     "output_type": "execute_result"
    }
   ],
   "source": [
    "import math\n",
    "math.ceil(1.1)"
   ]
  },
  {
   "cell_type": "code",
   "execution_count": 37,
   "metadata": {},
   "outputs": [],
   "source": [
    "for aaPair in list(matrix.keys()):\n",
    "        if 'X' in aaPair:\n",
    "            matrix[aaPair] = 0"
   ]
  },
  {
   "cell_type": "code",
   "execution_count": 21,
   "metadata": {},
   "outputs": [
    {
     "data": {
      "text/plain": [
       "5"
      ]
     },
     "execution_count": 21,
     "metadata": {},
     "output_type": "execute_result"
    }
   ],
   "source": [
    "nw.score_alignment(\"AAB\", \"BBB\", \n",
    "                   gap_open=1000, gap_extend=1000, \n",
    "                   matrix='HIJACK30')"
   ]
  },
  {
   "cell_type": "code",
   "execution_count": 18,
   "metadata": {},
   "outputs": [
    {
     "data": {
      "text/plain": [
       "276"
      ]
     },
     "execution_count": 18,
     "metadata": {},
     "output_type": "execute_result"
    }
   ],
   "source": [
    "len(matrix)"
   ]
  },
  {
   "cell_type": "code",
   "execution_count": 35,
   "metadata": {},
   "outputs": [
    {
     "data": {
      "text/plain": [
       "array([[0., 0.],\n",
       "       [0., 0.],\n",
       "       [0., 0.],\n",
       "       [0., 0.],\n",
       "       [0., 0.],\n",
       "       [0., 0.],\n",
       "       [0., 0.],\n",
       "       [0., 0.],\n",
       "       [0., 0.],\n",
       "       [0., 0.]])"
      ]
     },
     "execution_count": 35,
     "metadata": {},
     "output_type": "execute_result"
    }
   ],
   "source": [
    "np.zeros((10,2))"
   ]
  },
  {
   "cell_type": "code",
   "execution_count": 29,
   "metadata": {},
   "outputs": [
    {
     "name": "stdout",
     "output_type": "stream",
     "text": [
      "Help on built-in function zeros in module numpy:\n",
      "\n",
      "zeros(...)\n",
      "    zeros(shape, dtype=float, order='C')\n",
      "    \n",
      "    Return a new array of given shape and type, filled with zeros.\n",
      "    \n",
      "    Parameters\n",
      "    ----------\n",
      "    shape : int or tuple of ints\n",
      "        Shape of the new array, e.g., ``(2, 3)`` or ``2``.\n",
      "    dtype : data-type, optional\n",
      "        The desired data-type for the array, e.g., `numpy.int8`.  Default is\n",
      "        `numpy.float64`.\n",
      "    order : {'C', 'F'}, optional, default: 'C'\n",
      "        Whether to store multi-dimensional data in row-major\n",
      "        (C-style) or column-major (Fortran-style) order in\n",
      "        memory.\n",
      "    \n",
      "    Returns\n",
      "    -------\n",
      "    out : ndarray\n",
      "        Array of zeros with the given shape, dtype, and order.\n",
      "    \n",
      "    See Also\n",
      "    --------\n",
      "    zeros_like : Return an array of zeros with shape and type of input.\n",
      "    empty : Return a new uninitialized array.\n",
      "    ones : Return a new array setting values to one.\n",
      "    full : Return a new array of given shape filled with value.\n",
      "    \n",
      "    Examples\n",
      "    --------\n",
      "    >>> np.zeros(5)\n",
      "    array([ 0.,  0.,  0.,  0.,  0.])\n",
      "    \n",
      "    >>> np.zeros((5,), dtype=int)\n",
      "    array([0, 0, 0, 0, 0])\n",
      "    \n",
      "    >>> np.zeros((2, 1))\n",
      "    array([[ 0.],\n",
      "           [ 0.]])\n",
      "    \n",
      "    >>> s = (2,2)\n",
      "    >>> np.zeros(s)\n",
      "    array([[ 0.,  0.],\n",
      "           [ 0.,  0.]])\n",
      "    \n",
      "    >>> np.zeros((2,), dtype=[('x', 'i4'), ('y', 'i4')]) # custom dtype\n",
      "    array([(0, 0), (0, 0)],\n",
      "          dtype=[('x', '<i4'), ('y', '<i4')])\n",
      "\n"
     ]
    }
   ],
   "source": [
    "help(np.zeros)"
   ]
  },
  {
   "cell_type": "code",
   "execution_count": null,
   "metadata": {},
   "outputs": [],
   "source": []
  }
 ],
 "metadata": {
  "kernelspec": {
   "display_name": "Python 3",
   "language": "python",
   "name": "python3"
  },
  "language_info": {
   "codemirror_mode": {
    "name": "ipython",
    "version": 3
   },
   "file_extension": ".py",
   "mimetype": "text/x-python",
   "name": "python",
   "nbconvert_exporter": "python",
   "pygments_lexer": "ipython3",
   "version": "3.7.3"
  }
 },
 "nbformat": 4,
 "nbformat_minor": 2
}
