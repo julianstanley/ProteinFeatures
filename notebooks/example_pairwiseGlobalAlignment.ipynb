{
 "cells": [
  {
   "cell_type": "code",
   "execution_count": 1,
   "metadata": {},
   "outputs": [],
   "source": [
    "import sys\n",
    "sys.path.append(\"../src/\")\n",
    "from pairwiseGlobalAlignment import pairwiseGlobalAlignment\n",
    "import pandas as pd"
   ]
  },
  {
   "cell_type": "code",
   "execution_count": 2,
   "metadata": {},
   "outputs": [],
   "source": [
    "# Import sequence alignment data\n",
    "trainingDataFeatures = pd.read_csv(\"../data/Table S7 CS training data with all features.csv\")"
   ]
  },
  {
   "cell_type": "code",
   "execution_count": 3,
   "metadata": {},
   "outputs": [
    {
     "data": {
      "text/plain": [
       "(3646, 1387)"
      ]
     },
     "execution_count": 3,
     "metadata": {},
     "output_type": "execute_result"
    }
   ],
   "source": [
    "# Check the shape of the imported data\n",
    "trainingDataFeatures.shape"
   ]
  },
  {
   "cell_type": "markdown",
   "metadata": {},
   "source": [
    "\"E13083.pdb\" and \"E13082.pdb\" have the same surrounding 21mer sequences, so I'm going to exclude \"E13082\" to match the output from Table S7. For more information, see the \"duplicate_21mers_fromS7.csv\" table in this directory."
   ]
  },
  {
   "cell_type": "code",
   "execution_count": 4,
   "metadata": {},
   "outputs": [],
   "source": [
    "# Remove E13082 (see note above)\n",
    "trainingDataFeatures = trainingDataFeatures[trainingDataFeatures[\"Protein ID\"] != \"E13082\"]\n",
    "\n",
    "# Get the unique 21mer training data features and their associated labels\n",
    "kmerSequences = list(trainingDataFeatures[\"Surrounding 21mer\"].unique())\n",
    "siteByStructureLabels = list(trainingDataFeatures[\"Site by Structure\"].unique())"
   ]
  },
  {
   "cell_type": "code",
   "execution_count": 5,
   "metadata": {},
   "outputs": [
    {
     "data": {
      "text/plain": [
       "True"
      ]
     },
     "execution_count": 5,
     "metadata": {},
     "output_type": "execute_result"
    }
   ],
   "source": [
    "# Just a quick informal check. These lengths should definitely be equal\n",
    "len(kmerSequences)\n",
    "len(kmerSequences) == len(siteByStructureLabels)"
   ]
  },
  {
   "cell_type": "code",
   "execution_count": 6,
   "metadata": {},
   "outputs": [],
   "source": [
    "# Get pairwise global alginments of our kmer sequences\n",
    "alignments = pairwiseGlobalAlignment(kmerSequences, \"../matricies/\")"
   ]
  },
  {
   "cell_type": "code",
   "execution_count": 7,
   "metadata": {},
   "outputs": [],
   "source": [
    "# Set up a dataframe to view the pairwise global alignments more easily\n",
    "alignmentsdf = pd.DataFrame(alignments[0])\n",
    "alignmentsdf.columns = siteByStructureLabels\n",
    "alignmentsdf[\"Site by Structure\"] = siteByStructureLabels\n",
    "alignmentsdf.set_index(\"Site by Structure\", inplace = True)"
   ]
  },
  {
   "cell_type": "code",
   "execution_count": 14,
   "metadata": {},
   "outputs": [
    {
     "data": {
      "text/html": [
       "<div>\n",
       "<style scoped>\n",
       "    .dataframe tbody tr th:only-of-type {\n",
       "        vertical-align: middle;\n",
       "    }\n",
       "\n",
       "    .dataframe tbody tr th {\n",
       "        vertical-align: top;\n",
       "    }\n",
       "\n",
       "    .dataframe thead th {\n",
       "        text-align: right;\n",
       "    }\n",
       "</style>\n",
       "<table border=\"1\" class=\"dataframe\">\n",
       "  <thead>\n",
       "    <tr style=\"text-align: right;\">\n",
       "      <th></th>\n",
       "      <th>2zjr_C.pdb_K116</th>\n",
       "      <th>2zjr_C.pdb_K129</th>\n",
       "      <th>2zjr_C.pdb_K87</th>\n",
       "      <th>2zjr_C.pdb_P18</th>\n",
       "      <th>2zjr_C.pdb_P20</th>\n",
       "    </tr>\n",
       "    <tr>\n",
       "      <th>Site by Structure</th>\n",
       "      <th></th>\n",
       "      <th></th>\n",
       "      <th></th>\n",
       "      <th></th>\n",
       "      <th></th>\n",
       "    </tr>\n",
       "  </thead>\n",
       "  <tbody>\n",
       "    <tr>\n",
       "      <th>2zjr_C.pdb_K116</th>\n",
       "      <td>26.0</td>\n",
       "      <td>-0.8</td>\n",
       "      <td>1.4</td>\n",
       "      <td>1.0</td>\n",
       "      <td>-0.4</td>\n",
       "    </tr>\n",
       "    <tr>\n",
       "      <th>2zjr_C.pdb_K129</th>\n",
       "      <td>-0.8</td>\n",
       "      <td>29.0</td>\n",
       "      <td>1.0</td>\n",
       "      <td>1.6</td>\n",
       "      <td>-0.8</td>\n",
       "    </tr>\n",
       "    <tr>\n",
       "      <th>2zjr_C.pdb_K87</th>\n",
       "      <td>1.4</td>\n",
       "      <td>1.0</td>\n",
       "      <td>31.8</td>\n",
       "      <td>1.2</td>\n",
       "      <td>1.6</td>\n",
       "    </tr>\n",
       "    <tr>\n",
       "      <th>2zjr_C.pdb_P18</th>\n",
       "      <td>1.0</td>\n",
       "      <td>1.6</td>\n",
       "      <td>1.2</td>\n",
       "      <td>29.8</td>\n",
       "      <td>17.2</td>\n",
       "    </tr>\n",
       "    <tr>\n",
       "      <th>2zjr_C.pdb_P20</th>\n",
       "      <td>-0.4</td>\n",
       "      <td>-0.8</td>\n",
       "      <td>1.6</td>\n",
       "      <td>17.2</td>\n",
       "      <td>28.8</td>\n",
       "    </tr>\n",
       "  </tbody>\n",
       "</table>\n",
       "</div>"
      ],
      "text/plain": [
       "                   2zjr_C.pdb_K116  2zjr_C.pdb_K129  2zjr_C.pdb_K87  \\\n",
       "Site by Structure                                                     \n",
       "2zjr_C.pdb_K116               26.0             -0.8             1.4   \n",
       "2zjr_C.pdb_K129               -0.8             29.0             1.0   \n",
       "2zjr_C.pdb_K87                 1.4              1.0            31.8   \n",
       "2zjr_C.pdb_P18                 1.0              1.6             1.2   \n",
       "2zjr_C.pdb_P20                -0.4             -0.8             1.6   \n",
       "\n",
       "                   2zjr_C.pdb_P18  2zjr_C.pdb_P20  \n",
       "Site by Structure                                  \n",
       "2zjr_C.pdb_K116               1.0            -0.4  \n",
       "2zjr_C.pdb_K129               1.6            -0.8  \n",
       "2zjr_C.pdb_K87                1.2             1.6  \n",
       "2zjr_C.pdb_P18               29.8            17.2  \n",
       "2zjr_C.pdb_P20               17.2            28.8  "
      ]
     },
     "execution_count": 14,
     "metadata": {},
     "output_type": "execute_result"
    }
   ],
   "source": [
    "# Take a peak at the alignments\n",
    "alignmentsdf.iloc[0:5,0:5]"
   ]
  },
  {
   "cell_type": "code",
   "execution_count": 9,
   "metadata": {},
   "outputs": [],
   "source": [
    "# Grab the true alignments from the S7 table, order them in the same order as the alignmentsdf above\n",
    "trainingDataFeatures_ordered = pd.DataFrame()\n",
    "trainingDataFeatures_unique = trainingDataFeatures.drop_duplicates(\"Site by Structure\")\n",
    "\n",
    "for site in siteByStructureLabels:\n",
    "    trainingDataFeatures_ordered[site] = trainingDataFeatures_unique[site]\n",
    "    \n",
    "trainingDataFeatures_ordered[\"Site by Structure\"] = trainingDataFeatures[\"Site by Structure\"]\n",
    "trainingDataFeatures_ordered.set_index(\"Site by Structure\", inplace = True)"
   ]
  },
  {
   "cell_type": "code",
   "execution_count": 17,
   "metadata": {},
   "outputs": [
    {
     "data": {
      "text/plain": [
       "(979, 979)"
      ]
     },
     "execution_count": 17,
     "metadata": {},
     "output_type": "execute_result"
    }
   ],
   "source": [
    "# Take a peak at the alignments from the S7 table\n",
    "trainingDataFeatures_ordered.iloc[0:5,0:5]\n",
    "trainingDataFeatures_ordered.shape"
   ]
  },
  {
   "cell_type": "code",
   "execution_count": 32,
   "metadata": {},
   "outputs": [
    {
     "name": "stdout",
     "output_type": "stream",
     "text": [
      "1.4210854715202004e-14\n"
     ]
    }
   ],
   "source": [
    "import numpy as np\n",
    "diff_python_matlab = np.zeros((979, 979))\n",
    "\n",
    "for i in range(979):\n",
    "    for j in range(979):\n",
    "        difference = trainingDataFeatures_ordered.iloc[i, j] - alignmentsdf.iloc[i,j]\n",
    "        diff_python_matlab[i, j] = difference \n",
    "        \n",
    "print(diff_python_matlab.max())"
   ]
  }
 ],
 "metadata": {
  "kernelspec": {
   "display_name": "Python 3",
   "language": "python",
   "name": "python3"
  },
  "language_info": {
   "codemirror_mode": {
    "name": "ipython",
    "version": 3
   },
   "file_extension": ".py",
   "mimetype": "text/x-python",
   "name": "python",
   "nbconvert_exporter": "python",
   "pygments_lexer": "ipython3",
   "version": "3.7.3"
  }
 },
 "nbformat": 4,
 "nbformat_minor": 2
}
